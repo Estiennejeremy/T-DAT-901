{
 "cells": [
  {
   "cell_type": "code",
   "execution_count": 16,
   "metadata": {},
   "outputs": [],
   "source": [
    "import pandas as pd\n",
    "import matplotlib.pyplot as plt"
   ]
  },
  {
   "cell_type": "code",
   "execution_count": 2,
   "metadata": {},
   "outputs": [
    {
     "data": {
      "text/html": [
       "<div>\n",
       "<style scoped>\n",
       "    .dataframe tbody tr th:only-of-type {\n",
       "        vertical-align: middle;\n",
       "    }\n",
       "\n",
       "    .dataframe tbody tr th {\n",
       "        vertical-align: top;\n",
       "    }\n",
       "\n",
       "    .dataframe thead th {\n",
       "        text-align: right;\n",
       "    }\n",
       "</style>\n",
       "<table border=\"1\" class=\"dataframe\">\n",
       "  <thead>\n",
       "    <tr style=\"text-align: right;\">\n",
       "      <th></th>\n",
       "      <th>TICKET_ID</th>\n",
       "      <th>MOIS_VENTE</th>\n",
       "      <th>PRIX_NET</th>\n",
       "      <th>FAMILLE</th>\n",
       "      <th>UNIVERS</th>\n",
       "      <th>MAILLE</th>\n",
       "      <th>LIBELLE</th>\n",
       "      <th>CLI_ID</th>\n",
       "    </tr>\n",
       "  </thead>\n",
       "  <tbody>\n",
       "    <tr>\n",
       "      <th>0</th>\n",
       "      <td>35592159</td>\n",
       "      <td>10</td>\n",
       "      <td>1.67000</td>\n",
       "      <td>HYGIENE</td>\n",
       "      <td>HYG_DOUCHE JARDINMONDE</td>\n",
       "      <td>HYG_JDM</td>\n",
       "      <td>GD JDM4 PAMPLEMOUSSE FL 200ML</td>\n",
       "      <td>1490281.00000</td>\n",
       "    </tr>\n",
       "    <tr>\n",
       "      <th>1</th>\n",
       "      <td>35592159</td>\n",
       "      <td>10</td>\n",
       "      <td>1.66000</td>\n",
       "      <td>HYGIENE</td>\n",
       "      <td>HYG_DOUCHE JARDINMONDE</td>\n",
       "      <td>HYG_JDM</td>\n",
       "      <td>GD JDM4 PAMPLEMOUSSE FL 200ML</td>\n",
       "      <td>1490281.00000</td>\n",
       "    </tr>\n",
       "    <tr>\n",
       "      <th>2</th>\n",
       "      <td>35592159</td>\n",
       "      <td>10</td>\n",
       "      <td>7.45000</td>\n",
       "      <td>SOINS DU VISAGE</td>\n",
       "      <td>VIS_CJOUR Jeunes Specifique</td>\n",
       "      <td>VIS_JEUNE_ET_LEVRE</td>\n",
       "      <td>CR JR PARF BIO.SPE AC.SENT.50ML</td>\n",
       "      <td>1490281.00000</td>\n",
       "    </tr>\n",
       "    <tr>\n",
       "      <th>3</th>\n",
       "      <td>35592159</td>\n",
       "      <td>10</td>\n",
       "      <td>5.95000</td>\n",
       "      <td>SOINS DU VISAGE</td>\n",
       "      <td>VIS_DEMAQ AAAR</td>\n",
       "      <td>VIS_AAAR_DEMAQLOTION</td>\n",
       "      <td>EAU MICELLAIRE 3 THES FL200ML</td>\n",
       "      <td>1490281.00000</td>\n",
       "    </tr>\n",
       "    <tr>\n",
       "      <th>4</th>\n",
       "      <td>35592159</td>\n",
       "      <td>10</td>\n",
       "      <td>1.67000</td>\n",
       "      <td>HYGIENE</td>\n",
       "      <td>HYG_DOUCHE JARDINMONDE</td>\n",
       "      <td>HYG_JDM</td>\n",
       "      <td>GD JDM4 TIARE FL 200ML</td>\n",
       "      <td>1490281.00000</td>\n",
       "    </tr>\n",
       "  </tbody>\n",
       "</table>\n",
       "</div>"
      ],
      "text/plain": [
       "   TICKET_ID  MOIS_VENTE  PRIX_NET          FAMILLE  \\\n",
       "0   35592159          10   1.67000          HYGIENE   \n",
       "1   35592159          10   1.66000          HYGIENE   \n",
       "2   35592159          10   7.45000  SOINS DU VISAGE   \n",
       "3   35592159          10   5.95000  SOINS DU VISAGE   \n",
       "4   35592159          10   1.67000          HYGIENE   \n",
       "\n",
       "                       UNIVERS                MAILLE  \\\n",
       "0       HYG_DOUCHE JARDINMONDE               HYG_JDM   \n",
       "1       HYG_DOUCHE JARDINMONDE               HYG_JDM   \n",
       "2  VIS_CJOUR Jeunes Specifique    VIS_JEUNE_ET_LEVRE   \n",
       "3               VIS_DEMAQ AAAR  VIS_AAAR_DEMAQLOTION   \n",
       "4       HYG_DOUCHE JARDINMONDE               HYG_JDM   \n",
       "\n",
       "                           LIBELLE        CLI_ID  \n",
       "0    GD JDM4 PAMPLEMOUSSE FL 200ML 1490281.00000  \n",
       "1    GD JDM4 PAMPLEMOUSSE FL 200ML 1490281.00000  \n",
       "2  CR JR PARF BIO.SPE AC.SENT.50ML 1490281.00000  \n",
       "3    EAU MICELLAIRE 3 THES FL200ML 1490281.00000  \n",
       "4           GD JDM4 TIARE FL 200ML 1490281.00000  "
      ]
     },
     "execution_count": 2,
     "metadata": {},
     "output_type": "execute_result"
    }
   ],
   "source": [
    "# Changement de l'affichage des float pour eviter e+..\n",
    "pd.options.display.float_format = '{:.5f}'.format\n",
    "\n",
    "df = pd.read_csv(\"./KaDo.csv\")\n",
    "df.head()"
   ]
  },
  {
   "cell_type": "code",
   "execution_count": 3,
   "metadata": {},
   "outputs": [
    {
     "data": {
      "text/plain": [
       "(7214466, 8)"
      ]
     },
     "execution_count": 3,
     "metadata": {},
     "output_type": "execute_result"
    }
   ],
   "source": [
    "# Dimension nombre de ligne/commandes et nombre de colonne\n",
    "df.shape"
   ]
  },
  {
   "cell_type": "code",
   "execution_count": 4,
   "metadata": {},
   "outputs": [
    {
     "data": {
      "text/plain": [
       "TICKET_ID       int64\n",
       "MOIS_VENTE      int64\n",
       "PRIX_NET      float64\n",
       "FAMILLE        object\n",
       "UNIVERS        object\n",
       "MAILLE         object\n",
       "LIBELLE        object\n",
       "CLI_ID        float64\n",
       "dtype: object"
      ]
     },
     "execution_count": 4,
     "metadata": {},
     "output_type": "execute_result"
    }
   ],
   "source": [
    "# Vérification des types pour voir si il n'y a pas de conversion à faire\n",
    "df.dtypes"
   ]
  },
  {
   "cell_type": "code",
   "execution_count": 5,
   "metadata": {},
   "outputs": [
    {
     "name": "stdout",
     "output_type": "stream",
     "text": [
      "Nombre de client: 846189\n"
     ]
    }
   ],
   "source": [
    "# Nombre de client\n",
    "nombre_clients = len(df[\"CLI_ID\"].unique())\n",
    "print(f\"Nombre de client: {nombre_clients}\")"
   ]
  },
  {
   "cell_type": "code",
   "execution_count": 6,
   "metadata": {},
   "outputs": [
    {
     "name": "stdout",
     "output_type": "stream",
     "text": [
      "Prix max: 1575.0€, min: 0.01€, moyen: 5.971431929958506€\n",
      "Bénéfice total: 43080692.63000002€\n"
     ]
    }
   ],
   "source": [
    "# Statistique général sur le prix\n",
    "prix_max = df[\"PRIX_NET\"].max()\n",
    "prix_min = df[\"PRIX_NET\"].min()\n",
    "prix_moyen = df[\"PRIX_NET\"].mean()\n",
    "benef = df[\"PRIX_NET\"].sum()\n",
    "\n",
    "print(f\"Prix max: {prix_max}€, min: {prix_min}€, moyen: {prix_moyen}€\")\n",
    "print(f\"Bénéfice total: {benef}€\")"
   ]
  },
  {
   "cell_type": "code",
   "execution_count": 7,
   "metadata": {},
   "outputs": [
    {
     "name": "stdout",
     "output_type": "stream",
     "text": [
      "Par client, nombre max de commande: 834, min: 1, moyenne: 8.525841775113804\n"
     ]
    }
   ],
   "source": [
    "# Statistique général sur les commandes\n",
    "nombre_commande_max = df[\"CLI_ID\"].value_counts().max()\n",
    "nombre_commande_min = df[\"CLI_ID\"].value_counts().min()\n",
    "nombre_commande_moyen = df[\"CLI_ID\"].value_counts().mean()\n",
    "\n",
    "print(f\"Par client, nombre max de commande: {nombre_commande_max}, min: {nombre_commande_min}, moyenne: {nombre_commande_moyen}\")"
   ]
  },
  {
   "cell_type": "code",
   "execution_count": 8,
   "metadata": {
    "scrolled": true
   },
   "outputs": [
    {
     "data": {
      "text/html": [
       "<div>\n",
       "<style scoped>\n",
       "    .dataframe tbody tr th:only-of-type {\n",
       "        vertical-align: middle;\n",
       "    }\n",
       "\n",
       "    .dataframe tbody tr th {\n",
       "        vertical-align: top;\n",
       "    }\n",
       "\n",
       "    .dataframe thead th {\n",
       "        text-align: right;\n",
       "    }\n",
       "</style>\n",
       "<table border=\"1\" class=\"dataframe\">\n",
       "  <thead>\n",
       "    <tr style=\"text-align: right;\">\n",
       "      <th></th>\n",
       "      <th>TICKET_ID</th>\n",
       "      <th>MOIS_VENTE</th>\n",
       "      <th>PRIX_NET</th>\n",
       "      <th>FAMILLE</th>\n",
       "      <th>UNIVERS</th>\n",
       "      <th>MAILLE</th>\n",
       "      <th>LIBELLE</th>\n",
       "      <th>CLI_ID</th>\n",
       "    </tr>\n",
       "  </thead>\n",
       "  <tbody>\n",
       "    <tr>\n",
       "      <th>5085421</th>\n",
       "      <td>33107984</td>\n",
       "      <td>1</td>\n",
       "      <td>1575.00000</td>\n",
       "      <td>PARFUMAGE</td>\n",
       "      <td>PARF_PARF ET EAU DE PARF</td>\n",
       "      <td>PARF_PARFUM</td>\n",
       "      <td>EDP EVIDENCE VAPO 100ML</td>\n",
       "      <td>990122959.00000</td>\n",
       "    </tr>\n",
       "  </tbody>\n",
       "</table>\n",
       "</div>"
      ],
      "text/plain": [
       "         TICKET_ID  MOIS_VENTE   PRIX_NET    FAMILLE  \\\n",
       "5085421   33107984           1 1575.00000  PARFUMAGE   \n",
       "\n",
       "                          UNIVERS       MAILLE                  LIBELLE  \\\n",
       "5085421  PARF_PARF ET EAU DE PARF  PARF_PARFUM  EDP EVIDENCE VAPO 100ML   \n",
       "\n",
       "                 CLI_ID  \n",
       "5085421 990122959.00000  "
      ]
     },
     "execution_count": 8,
     "metadata": {},
     "output_type": "execute_result"
    }
   ],
   "source": [
    "# Commande la plus chère\n",
    "df.loc[df[\"PRIX_NET\"] == df[\"PRIX_NET\"].max()]"
   ]
  },
  {
   "cell_type": "code",
   "execution_count": 9,
   "metadata": {},
   "outputs": [
    {
     "data": {
      "text/plain": [
       "CLI_ID\n",
       "1490281.00000      18.40000\n",
       "13290776.00000     55.50000\n",
       "20163348.00000      7.45000\n",
       "20200041.00000      6.70000\n",
       "20561854.00000      7.05000\n",
       "20727324.00000     13.25000\n",
       "20791601.00000     23.80000\n",
       "21046542.00000    166.20000\n",
       "21239163.00000     12.65000\n",
       "21351166.00000      7.40000\n",
       "21497331.00000     33.35000\n",
       "21504227.00000      1.95000\n",
       "21514622.00000     17.90000\n",
       "69813934.00000    117.70000\n",
       "71891681.00000     44.25000\n",
       "85057203.00000     23.50000\n",
       "85841284.00000    162.25000\n",
       "90822328.00000     92.05000\n",
       "93806295.00000      6.00000\n",
       "100023116.00000     9.60000\n",
       "100064590.00000   108.30000\n",
       "126716008.00000    26.50000\n",
       "131204016.00000    37.85000\n",
       "169985247.00000   186.59000\n",
       "191914645.00000     7.50000\n",
       "195207210.00000   110.15000\n",
       "206111880.00000     6.15000\n",
       "242424645.00000     5.00000\n",
       "243624087.00000    31.15000\n",
       "275493987.00000   204.25000\n",
       "                     ...   \n",
       "996926404.00000     5.00000\n",
       "996926420.00000     4.90000\n",
       "996926438.00000     5.90000\n",
       "996926454.00000     5.95000\n",
       "996926462.00000     5.85000\n",
       "996926488.00000     9.00000\n",
       "996926503.00000     4.15000\n",
       "996926529.00000    29.90000\n",
       "996926553.00000     6.95000\n",
       "996926561.00000    21.70000\n",
       "996926579.00000    22.85000\n",
       "996926587.00000     1.95000\n",
       "996926595.00000    25.15000\n",
       "996926602.00000    15.85000\n",
       "996926610.00000    50.40000\n",
       "996926628.00000    20.00000\n",
       "996926636.00000    18.90000\n",
       "996926644.00000    67.35000\n",
       "996926652.00000    13.95000\n",
       "996926660.00000    18.90000\n",
       "996926678.00000    25.80000\n",
       "996926686.00000    20.90000\n",
       "996926694.00000    24.90000\n",
       "996926701.00000    27.80000\n",
       "996926719.00000    29.10000\n",
       "996926727.00000    10.90000\n",
       "996926735.00000    62.90000\n",
       "996926743.00000    16.80000\n",
       "996926759.00000    12.95000\n",
       "996926767.00000    52.60000\n",
       "Name: PRIX_NET, Length: 846188, dtype: float64"
      ]
     },
     "execution_count": 9,
     "metadata": {},
     "output_type": "execute_result"
    }
   ],
   "source": [
    "# Somme total dépensé par chaque client\n",
    "df.groupby(['CLI_ID'])[\"PRIX_NET\"].sum()"
   ]
  },
  {
   "cell_type": "code",
   "execution_count": 10,
   "metadata": {},
   "outputs": [
    {
     "data": {
      "text/html": [
       "<div>\n",
       "<style scoped>\n",
       "    .dataframe tbody tr th:only-of-type {\n",
       "        vertical-align: middle;\n",
       "    }\n",
       "\n",
       "    .dataframe tbody tr th {\n",
       "        vertical-align: top;\n",
       "    }\n",
       "\n",
       "    .dataframe thead th {\n",
       "        text-align: right;\n",
       "    }\n",
       "</style>\n",
       "<table border=\"1\" class=\"dataframe\">\n",
       "  <thead>\n",
       "    <tr style=\"text-align: right;\">\n",
       "      <th></th>\n",
       "      <th>PRIX_NET</th>\n",
       "    </tr>\n",
       "    <tr>\n",
       "      <th>CLI_ID</th>\n",
       "      <th></th>\n",
       "    </tr>\n",
       "  </thead>\n",
       "  <tbody>\n",
       "    <tr>\n",
       "      <th>967051620.00000</th>\n",
       "      <td>13536.95000</td>\n",
       "    </tr>\n",
       "  </tbody>\n",
       "</table>\n",
       "</div>"
      ],
      "text/plain": [
       "                   PRIX_NET\n",
       "CLI_ID                     \n",
       "967051620.00000 13536.95000"
      ]
     },
     "execution_count": 10,
     "metadata": {},
     "output_type": "execute_result"
    }
   ],
   "source": [
    "# Meilleur client\n",
    "df.groupby(\"CLI_ID\").agg({\"PRIX_NET\": \"sum\"}).sort_values(by='PRIX_NET', ascending=False).head(1)"
   ]
  },
  {
   "cell_type": "code",
   "execution_count": 11,
   "metadata": {},
   "outputs": [
    {
     "data": {
      "text/html": [
       "<div>\n",
       "<style scoped>\n",
       "    .dataframe tbody tr th:only-of-type {\n",
       "        vertical-align: middle;\n",
       "    }\n",
       "\n",
       "    .dataframe tbody tr th {\n",
       "        vertical-align: top;\n",
       "    }\n",
       "\n",
       "    .dataframe thead th {\n",
       "        text-align: right;\n",
       "    }\n",
       "</style>\n",
       "<table border=\"1\" class=\"dataframe\">\n",
       "  <thead>\n",
       "    <tr style=\"text-align: right;\">\n",
       "      <th></th>\n",
       "      <th>PRIX_NET</th>\n",
       "    </tr>\n",
       "    <tr>\n",
       "      <th>MOIS_VENTE</th>\n",
       "      <th></th>\n",
       "    </tr>\n",
       "  </thead>\n",
       "  <tbody>\n",
       "    <tr>\n",
       "      <th>12</th>\n",
       "      <td>5345158.44004</td>\n",
       "    </tr>\n",
       "    <tr>\n",
       "      <th>7</th>\n",
       "      <td>4209600.08002</td>\n",
       "    </tr>\n",
       "    <tr>\n",
       "      <th>6</th>\n",
       "      <td>4118681.68002</td>\n",
       "    </tr>\n",
       "    <tr>\n",
       "      <th>1</th>\n",
       "      <td>3922441.38002</td>\n",
       "    </tr>\n",
       "    <tr>\n",
       "      <th>5</th>\n",
       "      <td>3769591.64001</td>\n",
       "    </tr>\n",
       "    <tr>\n",
       "      <th>11</th>\n",
       "      <td>3457041.02001</td>\n",
       "    </tr>\n",
       "    <tr>\n",
       "      <th>9</th>\n",
       "      <td>3211772.04001</td>\n",
       "    </tr>\n",
       "    <tr>\n",
       "      <th>3</th>\n",
       "      <td>3200551.14001</td>\n",
       "    </tr>\n",
       "    <tr>\n",
       "      <th>4</th>\n",
       "      <td>3109273.54000</td>\n",
       "    </tr>\n",
       "    <tr>\n",
       "      <th>10</th>\n",
       "      <td>2959543.94000</td>\n",
       "    </tr>\n",
       "    <tr>\n",
       "      <th>8</th>\n",
       "      <td>2931716.33000</td>\n",
       "    </tr>\n",
       "    <tr>\n",
       "      <th>2</th>\n",
       "      <td>2845321.40000</td>\n",
       "    </tr>\n",
       "  </tbody>\n",
       "</table>\n",
       "</div>"
      ],
      "text/plain": [
       "                PRIX_NET\n",
       "MOIS_VENTE              \n",
       "12         5345158.44004\n",
       "7          4209600.08002\n",
       "6          4118681.68002\n",
       "1          3922441.38002\n",
       "5          3769591.64001\n",
       "11         3457041.02001\n",
       "9          3211772.04001\n",
       "3          3200551.14001\n",
       "4          3109273.54000\n",
       "10         2959543.94000\n",
       "8          2931716.33000\n",
       "2          2845321.40000"
      ]
     },
     "execution_count": 11,
     "metadata": {},
     "output_type": "execute_result"
    }
   ],
   "source": [
    "# Du mois le plus rentable au mois le moins rentable\n",
    "df.groupby(\"MOIS_VENTE\").agg({\"PRIX_NET\": \"sum\"}).sort_values(by='PRIX_NET', ascending=False)"
   ]
  },
  {
   "cell_type": "code",
   "execution_count": 19,
   "metadata": {},
   "outputs": [
    {
     "name": "stdout",
     "output_type": "stream",
     "text": [
      "range(1, 13)\n"
     ]
    },
    {
     "data": {
      "image/png": "[encoded data removed]",
      "text/plain": [
       "<Figure size 432x288 with 1 Axes>"
      ]
     },
     "metadata": {
      "needs_background": "light"
     },
     "output_type": "display_data"
    }
   ],
   "source": [
    "months = range(1,13)\n",
    "plt.bar(months,df.groupby(\"MOIS_VENTE\").agg({\"PRIX_NET\": \"sum\"})[\"PRIX_NET\"])\n",
    "plt.xticks(months)\n",
    "plt.ylabel('Sales in USD ($)')\n",
    "plt.xlabel('Month number')\n",
    "plt.show()"
   ]
  },
  {
   "cell_type": "code",
   "execution_count": 42,
   "metadata": {},
   "outputs": [
    {
     "data": {
      "text/html": [
       "<div>\n",
       "<style scoped>\n",
       "    .dataframe tbody tr th:only-of-type {\n",
       "        vertical-align: middle;\n",
       "    }\n",
       "\n",
       "    .dataframe tbody tr th {\n",
       "        vertical-align: top;\n",
       "    }\n",
       "\n",
       "    .dataframe thead th {\n",
       "        text-align: right;\n",
       "    }\n",
       "</style>\n",
       "<table border=\"1\" class=\"dataframe\">\n",
       "  <thead>\n",
       "    <tr style=\"text-align: right;\">\n",
       "      <th></th>\n",
       "      <th>TICKET_ID</th>\n",
       "    </tr>\n",
       "    <tr>\n",
       "      <th>MOIS_VENTE</th>\n",
       "      <th></th>\n",
       "    </tr>\n",
       "  </thead>\n",
       "  <tbody>\n",
       "    <tr>\n",
       "      <th>12</th>\n",
       "      <td>317175</td>\n",
       "    </tr>\n",
       "    <tr>\n",
       "      <th>7</th>\n",
       "      <td>277378</td>\n",
       "    </tr>\n",
       "    <tr>\n",
       "      <th>6</th>\n",
       "      <td>258118</td>\n",
       "    </tr>\n",
       "    <tr>\n",
       "      <th>1</th>\n",
       "      <td>257093</td>\n",
       "    </tr>\n",
       "    <tr>\n",
       "      <th>9</th>\n",
       "      <td>226986</td>\n",
       "    </tr>\n",
       "    <tr>\n",
       "      <th>5</th>\n",
       "      <td>212458</td>\n",
       "    </tr>\n",
       "    <tr>\n",
       "      <th>11</th>\n",
       "      <td>210990</td>\n",
       "    </tr>\n",
       "    <tr>\n",
       "      <th>8</th>\n",
       "      <td>203518</td>\n",
       "    </tr>\n",
       "    <tr>\n",
       "      <th>3</th>\n",
       "      <td>198069</td>\n",
       "    </tr>\n",
       "    <tr>\n",
       "      <th>4</th>\n",
       "      <td>195544</td>\n",
       "    </tr>\n",
       "    <tr>\n",
       "      <th>10</th>\n",
       "      <td>195309</td>\n",
       "    </tr>\n",
       "    <tr>\n",
       "      <th>2</th>\n",
       "      <td>170788</td>\n",
       "    </tr>\n",
       "  </tbody>\n",
       "</table>\n",
       "</div>"
      ],
      "text/plain": [
       "            TICKET_ID\n",
       "MOIS_VENTE           \n",
       "12             317175\n",
       "7              277378\n",
       "6              258118\n",
       "1              257093\n",
       "9              226986\n",
       "5              212458\n",
       "11             210990\n",
       "8              203518\n",
       "3              198069\n",
       "4              195544\n",
       "10             195309\n",
       "2              170788"
      ]
     },
     "execution_count": 42,
     "metadata": {},
     "output_type": "execute_result"
    }
   ],
   "source": [
    "# Nombre de commande par mois\n",
    "orders_by_month = df.groupby(\"MOIS_VENTE\").agg({\"TICKET_ID\": pd.Series.nunique}).sort_values(by='TICKET_ID', ascending=False)\n",
    "orders_by_month"
   ]
  },
  {
   "cell_type": "code",
   "execution_count": 44,
   "metadata": {},
   "outputs": [
    {
     "data": {
      "image/png": "[encoded data removed]",
      "text/plain": [
       "<Figure size 432x288 with 1 Axes>"
      ]
     },
     "metadata": {
      "needs_background": "light"
     },
     "output_type": "display_data"
    }
   ],
   "source": [
    "months = range(1,13)\n",
    "plt.bar(months, df.groupby(\"MOIS_VENTE\").agg({\"TICKET_ID\": pd.Series.nunique})[\"TICKET_ID\"])\n",
    "plt.xticks(months)\n",
    "plt.ylabel('Sales in USD ($)')\n",
    "plt.xlabel('Month number')\n",
    "plt.show()"
   ]
  },
  {
   "cell_type": "code",
   "execution_count": 40,
   "metadata": {},
   "outputs": [
    {
     "data": {
      "text/html": [
       "<div>\n",
       "<style scoped>\n",
       "    .dataframe tbody tr th:only-of-type {\n",
       "        vertical-align: middle;\n",
       "    }\n",
       "\n",
       "    .dataframe tbody tr th {\n",
       "        vertical-align: top;\n",
       "    }\n",
       "\n",
       "    .dataframe thead th {\n",
       "        text-align: right;\n",
       "    }\n",
       "</style>\n",
       "<table border=\"1\" class=\"dataframe\">\n",
       "  <thead>\n",
       "    <tr style=\"text-align: right;\">\n",
       "      <th></th>\n",
       "      <th>PRIX_NET</th>\n",
       "    </tr>\n",
       "    <tr>\n",
       "      <th>FAMILLE</th>\n",
       "      <th></th>\n",
       "    </tr>\n",
       "  </thead>\n",
       "  <tbody>\n",
       "    <tr>\n",
       "      <th>MAQUILLAGE</th>\n",
       "      <td>11174320.83997</td>\n",
       "    </tr>\n",
       "    <tr>\n",
       "      <th>SOINS DU VISAGE</th>\n",
       "      <td>10460198.75999</td>\n",
       "    </tr>\n",
       "    <tr>\n",
       "      <th>PARFUMAGE</th>\n",
       "      <td>8424678.06003</td>\n",
       "    </tr>\n",
       "    <tr>\n",
       "      <th>HYGIENE</th>\n",
       "      <td>5790264.28007</td>\n",
       "    </tr>\n",
       "    <tr>\n",
       "      <th>SOINS DU CORPS</th>\n",
       "      <td>4813938.42004</td>\n",
       "    </tr>\n",
       "    <tr>\n",
       "      <th>CAPILLAIRES</th>\n",
       "      <td>1251699.52999</td>\n",
       "    </tr>\n",
       "    <tr>\n",
       "      <th>SOLAIRES</th>\n",
       "      <td>1165416.59000</td>\n",
       "    </tr>\n",
       "    <tr>\n",
       "      <th>MULTI FAMILLES</th>\n",
       "      <td>136.00000</td>\n",
       "    </tr>\n",
       "    <tr>\n",
       "      <th>SO</th>\n",
       "      <td>25.20000</td>\n",
       "    </tr>\n",
       "    <tr>\n",
       "      <th>SANTE NATURELLE</th>\n",
       "      <td>14.95000</td>\n",
       "    </tr>\n",
       "  </tbody>\n",
       "</table>\n",
       "</div>"
      ],
      "text/plain": [
       "                      PRIX_NET\n",
       "FAMILLE                       \n",
       "MAQUILLAGE      11174320.83997\n",
       "SOINS DU VISAGE 10460198.75999\n",
       "PARFUMAGE        8424678.06003\n",
       "HYGIENE          5790264.28007\n",
       "SOINS DU CORPS   4813938.42004\n",
       "CAPILLAIRES      1251699.52999\n",
       "SOLAIRES         1165416.59000\n",
       "MULTI FAMILLES       136.00000\n",
       "SO                    25.20000\n",
       "SANTE NATURELLE       14.95000"
      ]
     },
     "execution_count": 40,
     "metadata": {},
     "output_type": "execute_result"
    }
   ],
   "source": [
    "# De la famille la plus rentable à la moins rentable\n",
    "familly_by_month = df.groupby(\"FAMILLE\").agg({\"PRIX_NET\": \"sum\"}).sort_values(by='PRIX_NET', ascending=False)\n",
    "familly_by_month"
   ]
  },
  {
   "cell_type": "code",
   "execution_count": 50,
   "metadata": {},
   "outputs": [
    {
     "data": {
      "image/png": "[encoded data removed]",
      "text/plain": [
       "<Figure size 432x288 with 1 Axes>"
      ]
     },
     "metadata": {},
     "output_type": "display_data"
    }
   ],
   "source": [
    "plt.pie(familly_by_month[\"PRIX_NET\"], labels = familly_by_month.index)\n",
    "plt.legend(title = \"Familles:\")\n",
    "plt.show()"
   ]
  },
  {
   "cell_type": "code",
   "execution_count": 48,
   "metadata": {},
   "outputs": [
    {
     "data": {
      "text/html": [
       "<div>\n",
       "<style scoped>\n",
       "    .dataframe tbody tr th:only-of-type {\n",
       "        vertical-align: middle;\n",
       "    }\n",
       "\n",
       "    .dataframe tbody tr th {\n",
       "        vertical-align: top;\n",
       "    }\n",
       "\n",
       "    .dataframe thead th {\n",
       "        text-align: right;\n",
       "    }\n",
       "</style>\n",
       "<table border=\"1\" class=\"dataframe\">\n",
       "  <thead>\n",
       "    <tr style=\"text-align: right;\">\n",
       "      <th></th>\n",
       "      <th>TICKET_ID</th>\n",
       "    </tr>\n",
       "    <tr>\n",
       "      <th>FAMILLE</th>\n",
       "      <th></th>\n",
       "    </tr>\n",
       "  </thead>\n",
       "  <tbody>\n",
       "    <tr>\n",
       "      <th>MAQUILLAGE</th>\n",
       "      <td>1019787</td>\n",
       "    </tr>\n",
       "    <tr>\n",
       "      <th>SOINS DU VISAGE</th>\n",
       "      <td>978839</td>\n",
       "    </tr>\n",
       "    <tr>\n",
       "      <th>HYGIENE</th>\n",
       "      <td>959766</td>\n",
       "    </tr>\n",
       "    <tr>\n",
       "      <th>SOINS DU CORPS</th>\n",
       "      <td>651650</td>\n",
       "    </tr>\n",
       "    <tr>\n",
       "      <th>PARFUMAGE</th>\n",
       "      <td>510154</td>\n",
       "    </tr>\n",
       "    <tr>\n",
       "      <th>CAPILLAIRES</th>\n",
       "      <td>209326</td>\n",
       "    </tr>\n",
       "    <tr>\n",
       "      <th>SOLAIRES</th>\n",
       "      <td>118945</td>\n",
       "    </tr>\n",
       "    <tr>\n",
       "      <th>MULTI FAMILLES</th>\n",
       "      <td>29</td>\n",
       "    </tr>\n",
       "    <tr>\n",
       "      <th>SANTE NATURELLE</th>\n",
       "      <td>1</td>\n",
       "    </tr>\n",
       "    <tr>\n",
       "      <th>SO</th>\n",
       "      <td>1</td>\n",
       "    </tr>\n",
       "  </tbody>\n",
       "</table>\n",
       "</div>"
      ],
      "text/plain": [
       "                 TICKET_ID\n",
       "FAMILLE                   \n",
       "MAQUILLAGE         1019787\n",
       "SOINS DU VISAGE     978839\n",
       "HYGIENE             959766\n",
       "SOINS DU CORPS      651650\n",
       "PARFUMAGE           510154\n",
       "CAPILLAIRES         209326\n",
       "SOLAIRES            118945\n",
       "MULTI FAMILLES          29\n",
       "SANTE NATURELLE          1\n",
       "SO                       1"
      ]
     },
     "execution_count": 48,
     "metadata": {},
     "output_type": "execute_result"
    }
   ],
   "source": [
    "# Nombre de commande par famille\n",
    "orders_by_familly = df.groupby(\"FAMILLE\").agg({\"TICKET_ID\": pd.Series.nunique}).sort_values(by='TICKET_ID', ascending=False)\n",
    "orders_by_familly"
   ]
  },
  {
   "cell_type": "code",
   "execution_count": 49,
   "metadata": {},
   "outputs": [
    {
     "data": {
      "image/png": "[encoded data removed]",
      "text/plain": [
       "<Figure size 432x288 with 1 Axes>"
      ]
     },
     "metadata": {},
     "output_type": "display_data"
    }
   ],
   "source": [
    "plt.pie(orders_by_familly[\"TICKET_ID\"], labels = orders_by_familly.index)\n",
    "plt.legend(title = \"Familles:\")\n",
    "plt.show()"
   ]
  },
  {
   "cell_type": "code",
   "execution_count": 15,
   "metadata": {},
   "outputs": [
    {
     "data": {
      "text/html": [
       "<div>\n",
       "<style scoped>\n",
       "    .dataframe tbody tr th:only-of-type {\n",
       "        vertical-align: middle;\n",
       "    }\n",
       "\n",
       "    .dataframe tbody tr th {\n",
       "        vertical-align: top;\n",
       "    }\n",
       "\n",
       "    .dataframe thead th {\n",
       "        text-align: right;\n",
       "    }\n",
       "</style>\n",
       "<table border=\"1\" class=\"dataframe\">\n",
       "  <thead>\n",
       "    <tr style=\"text-align: right;\">\n",
       "      <th></th>\n",
       "      <th>TICKET_ID</th>\n",
       "      <th>MOIS_VENTE</th>\n",
       "      <th>PRIX_NET</th>\n",
       "      <th>FAMILLE</th>\n",
       "      <th>UNIVERS</th>\n",
       "      <th>MAILLE</th>\n",
       "      <th>LIBELLE</th>\n",
       "      <th>CLI_ID</th>\n",
       "    </tr>\n",
       "  </thead>\n",
       "  <tbody>\n",
       "    <tr>\n",
       "      <th>6458712</th>\n",
       "      <td>33072287</td>\n",
       "      <td>1</td>\n",
       "      <td>14.95000</td>\n",
       "      <td>SANTE NATURELLE</td>\n",
       "      <td>DIETETIQUE</td>\n",
       "      <td>DIETETIQUE</td>\n",
       "      <td>SOIN COSM ORALE 3X10 CAPS RC2</td>\n",
       "      <td>993646584.00000</td>\n",
       "    </tr>\n",
       "  </tbody>\n",
       "</table>\n",
       "</div>"
      ],
      "text/plain": [
       "         TICKET_ID  MOIS_VENTE  PRIX_NET          FAMILLE     UNIVERS  \\\n",
       "6458712   33072287           1  14.95000  SANTE NATURELLE  DIETETIQUE   \n",
       "\n",
       "             MAILLE                        LIBELLE          CLI_ID  \n",
       "6458712  DIETETIQUE  SOIN COSM ORALE 3X10 CAPS RC2 993646584.00000  "
      ]
     },
     "execution_count": 15,
     "metadata": {},
     "output_type": "execute_result"
    }
   ],
   "source": [
    "# Test pour voir si les données sont bien calculées\n",
    "df.loc[df[\"FAMILLE\"] == \"SANTE NATURELLE\"]"
   ]
  }
 ],
 "metadata": {
  "kernelspec": {
   "display_name": "Python 3",
   "language": "python",
   "name": "python3"
  },
  "language_info": {
   "codemirror_mode": {
    "name": "ipython",
    "version": 3
   },
   "file_extension": ".py",
   "mimetype": "text/x-python",
   "name": "python",
   "nbconvert_exporter": "python",
   "pygments_lexer": "ipython3",
   "version": "3.6.7"
  }
 },
 "nbformat": 4,
 "nbformat_minor": 2
}
