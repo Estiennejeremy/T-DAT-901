{
 "cells": [
  {
   "cell_type": "code",
   "execution_count": 1,
   "metadata": {},
   "outputs": [],
   "source": [
    "import pandas as pd\n",
    "import matplotlib.pyplot as plt"
   ]
  },
  {
   "cell_type": "markdown",
   "metadata": {},
   "source": [
    "# VISUALIZATION AND DATA EXPLORATION "
   ]
  },
  {
   "cell_type": "code",
   "execution_count": 2,
   "metadata": {},
   "outputs": [
    {
     "data": {
      "text/html": [
       "<div>\n",
       "<style scoped>\n",
       "    .dataframe tbody tr th:only-of-type {\n",
       "        vertical-align: middle;\n",
       "    }\n",
       "\n",
       "    .dataframe tbody tr th {\n",
       "        vertical-align: top;\n",
       "    }\n",
       "\n",
       "    .dataframe thead th {\n",
       "        text-align: right;\n",
       "    }\n",
       "</style>\n",
       "<table border=\"1\" class=\"dataframe\">\n",
       "  <thead>\n",
       "    <tr style=\"text-align: right;\">\n",
       "      <th></th>\n",
       "      <th>TICKET_ID</th>\n",
       "      <th>MOIS_VENTE</th>\n",
       "      <th>PRIX_NET</th>\n",
       "      <th>FAMILLE</th>\n",
       "      <th>UNIVERS</th>\n",
       "      <th>MAILLE</th>\n",
       "      <th>LIBELLE</th>\n",
       "      <th>CLI_ID</th>\n",
       "    </tr>\n",
       "  </thead>\n",
       "  <tbody>\n",
       "    <tr>\n",
       "      <th>0</th>\n",
       "      <td>35592159</td>\n",
       "      <td>10</td>\n",
       "      <td>1.67000</td>\n",
       "      <td>HYGIENE</td>\n",
       "      <td>HYG_DOUCHE JARDINMONDE</td>\n",
       "      <td>HYG_JDM</td>\n",
       "      <td>GD JDM4 PAMPLEMOUSSE FL 200ML</td>\n",
       "      <td>1490281</td>\n",
       "    </tr>\n",
       "    <tr>\n",
       "      <th>1</th>\n",
       "      <td>35592159</td>\n",
       "      <td>10</td>\n",
       "      <td>1.66000</td>\n",
       "      <td>HYGIENE</td>\n",
       "      <td>HYG_DOUCHE JARDINMONDE</td>\n",
       "      <td>HYG_JDM</td>\n",
       "      <td>GD JDM4 PAMPLEMOUSSE FL 200ML</td>\n",
       "      <td>1490281</td>\n",
       "    </tr>\n",
       "    <tr>\n",
       "      <th>2</th>\n",
       "      <td>35592159</td>\n",
       "      <td>10</td>\n",
       "      <td>7.45000</td>\n",
       "      <td>SOINS DU VISAGE</td>\n",
       "      <td>VIS_CJOUR Jeunes Specifique</td>\n",
       "      <td>VIS_JEUNE_ET_LEVRE</td>\n",
       "      <td>CR JR PARF BIO.SPE AC.SENT.50ML</td>\n",
       "      <td>1490281</td>\n",
       "    </tr>\n",
       "    <tr>\n",
       "      <th>3</th>\n",
       "      <td>35592159</td>\n",
       "      <td>10</td>\n",
       "      <td>5.95000</td>\n",
       "      <td>SOINS DU VISAGE</td>\n",
       "      <td>VIS_DEMAQ AAAR</td>\n",
       "      <td>VIS_AAAR_DEMAQLOTION</td>\n",
       "      <td>EAU MICELLAIRE 3 THES FL200ML</td>\n",
       "      <td>1490281</td>\n",
       "    </tr>\n",
       "    <tr>\n",
       "      <th>4</th>\n",
       "      <td>35592159</td>\n",
       "      <td>10</td>\n",
       "      <td>1.67000</td>\n",
       "      <td>HYGIENE</td>\n",
       "      <td>HYG_DOUCHE JARDINMONDE</td>\n",
       "      <td>HYG_JDM</td>\n",
       "      <td>GD JDM4 TIARE FL 200ML</td>\n",
       "      <td>1490281</td>\n",
       "    </tr>\n",
       "  </tbody>\n",
       "</table>\n",
       "</div>"
      ],
      "text/plain": [
       "   TICKET_ID  MOIS_VENTE  PRIX_NET          FAMILLE  \\\n",
       "0   35592159          10   1.67000          HYGIENE   \n",
       "1   35592159          10   1.66000          HYGIENE   \n",
       "2   35592159          10   7.45000  SOINS DU VISAGE   \n",
       "3   35592159          10   5.95000  SOINS DU VISAGE   \n",
       "4   35592159          10   1.67000          HYGIENE   \n",
       "\n",
       "                       UNIVERS                MAILLE  \\\n",
       "0       HYG_DOUCHE JARDINMONDE               HYG_JDM   \n",
       "1       HYG_DOUCHE JARDINMONDE               HYG_JDM   \n",
       "2  VIS_CJOUR Jeunes Specifique    VIS_JEUNE_ET_LEVRE   \n",
       "3               VIS_DEMAQ AAAR  VIS_AAAR_DEMAQLOTION   \n",
       "4       HYG_DOUCHE JARDINMONDE               HYG_JDM   \n",
       "\n",
       "                           LIBELLE   CLI_ID  \n",
       "0    GD JDM4 PAMPLEMOUSSE FL 200ML  1490281  \n",
       "1    GD JDM4 PAMPLEMOUSSE FL 200ML  1490281  \n",
       "2  CR JR PARF BIO.SPE AC.SENT.50ML  1490281  \n",
       "3    EAU MICELLAIRE 3 THES FL200ML  1490281  \n",
       "4           GD JDM4 TIARE FL 200ML  1490281  "
      ]
     },
     "execution_count": 2,
     "metadata": {},
     "output_type": "execute_result"
    }
   ],
   "source": [
    "# Changement de l'affichage des float pour eviter e+..\n",
    "pd.options.display.float_format = '{:.5f}'.format\n",
    "\n",
    "df = pd.read_csv(\"./KaDo.csv\")\n",
    "df.head()"
   ]
  },
  {
   "cell_type": "code",
   "execution_count": 3,
   "metadata": {},
   "outputs": [],
   "source": [
    "# supression des valeurs vides\n",
    "df.dropna(axis=0, inplace=True)"
   ]
  },
  {
   "cell_type": "code",
   "execution_count": 4,
   "metadata": {},
   "outputs": [
    {
     "data": {
      "text/plain": [
       "(7245522, 8)"
      ]
     },
     "execution_count": 4,
     "metadata": {},
     "output_type": "execute_result"
    }
   ],
   "source": [
    "# Dimension nombre de ligne/commandes et nombre de colonne\n",
    "df.shape"
   ]
  },
  {
   "cell_type": "code",
   "execution_count": 5,
   "metadata": {},
   "outputs": [
    {
     "data": {
      "text/plain": [
       "TICKET_ID       int64\n",
       "MOIS_VENTE      int64\n",
       "PRIX_NET      float64\n",
       "FAMILLE        object\n",
       "UNIVERS        object\n",
       "MAILLE         object\n",
       "LIBELLE        object\n",
       "CLI_ID          int64\n",
       "dtype: object"
      ]
     },
     "execution_count": 5,
     "metadata": {},
     "output_type": "execute_result"
    }
   ],
   "source": [
    "# Vérification des types pour voir si il n'y a pas de conversion à faire\n",
    "df.dtypes"
   ]
  },
  {
   "cell_type": "code",
   "execution_count": 6,
   "metadata": {},
   "outputs": [
    {
     "name": "stdout",
     "output_type": "stream",
     "text": [
      "Nombre de client: 853514\n"
     ]
    }
   ],
   "source": [
    "# Nombre de client\n",
    "nombre_clients = len(df[\"CLI_ID\"].unique())\n",
    "print(f\"Nombre de client: {nombre_clients}\")"
   ]
  },
  {
   "cell_type": "code",
   "execution_count": 7,
   "metadata": {},
   "outputs": [
    {
     "name": "stdout",
     "output_type": "stream",
     "text": [
      "Prix max: 1575.0€, min: 0.01€, moyen: 5.970083615783657€\n",
      "Bénéfice total: 43256372.18000003€\n"
     ]
    }
   ],
   "source": [
    "# Statistique général sur le prix\n",
    "prix_max = df[\"PRIX_NET\"].max()\n",
    "prix_min = df[\"PRIX_NET\"].min()\n",
    "prix_moyen = df[\"PRIX_NET\"].mean()\n",
    "benef = df[\"PRIX_NET\"].sum()\n",
    "\n",
    "print(f\"Prix max: {prix_max}€, min: {prix_min}€, moyen: {prix_moyen}€\")\n",
    "print(f\"Bénéfice total: {benef}€\")"
   ]
  },
  {
   "cell_type": "code",
   "execution_count": 8,
   "metadata": {},
   "outputs": [
    {
     "name": "stdout",
     "output_type": "stream",
     "text": [
      "Par client, nombre max de commande: 834, min: 1, moyenne: 8.489048802948751\n"
     ]
    }
   ],
   "source": [
    "# Statistique général sur les commandes\n",
    "nombre_commande_max = df[\"CLI_ID\"].value_counts().max()\n",
    "nombre_commande_min = df[\"CLI_ID\"].value_counts().min()\n",
    "nombre_commande_moyen = df[\"CLI_ID\"].value_counts().mean()\n",
    "\n",
    "print(f\"Par client, nombre max de commande: {nombre_commande_max}, min: {nombre_commande_min}, moyenne: {nombre_commande_moyen}\")"
   ]
  },
  {
   "cell_type": "code",
   "execution_count": 9,
   "metadata": {
    "scrolled": true
   },
   "outputs": [
    {
     "data": {
      "text/html": [
       "<div>\n",
       "<style scoped>\n",
       "    .dataframe tbody tr th:only-of-type {\n",
       "        vertical-align: middle;\n",
       "    }\n",
       "\n",
       "    .dataframe tbody tr th {\n",
       "        vertical-align: top;\n",
       "    }\n",
       "\n",
       "    .dataframe thead th {\n",
       "        text-align: right;\n",
       "    }\n",
       "</style>\n",
       "<table border=\"1\" class=\"dataframe\">\n",
       "  <thead>\n",
       "    <tr style=\"text-align: right;\">\n",
       "      <th></th>\n",
       "      <th>TICKET_ID</th>\n",
       "      <th>MOIS_VENTE</th>\n",
       "      <th>PRIX_NET</th>\n",
       "      <th>FAMILLE</th>\n",
       "      <th>UNIVERS</th>\n",
       "      <th>MAILLE</th>\n",
       "      <th>LIBELLE</th>\n",
       "      <th>CLI_ID</th>\n",
       "    </tr>\n",
       "  </thead>\n",
       "  <tbody>\n",
       "    <tr>\n",
       "      <th>5085421</th>\n",
       "      <td>33107984</td>\n",
       "      <td>1</td>\n",
       "      <td>1575.00000</td>\n",
       "      <td>PARFUMAGE</td>\n",
       "      <td>PARF_PARF ET EAU DE PARF</td>\n",
       "      <td>PARF_PARFUM</td>\n",
       "      <td>EDP EVIDENCE VAPO 100ML</td>\n",
       "      <td>990122959</td>\n",
       "    </tr>\n",
       "  </tbody>\n",
       "</table>\n",
       "</div>"
      ],
      "text/plain": [
       "         TICKET_ID  MOIS_VENTE   PRIX_NET    FAMILLE  \\\n",
       "5085421   33107984           1 1575.00000  PARFUMAGE   \n",
       "\n",
       "                          UNIVERS       MAILLE                  LIBELLE  \\\n",
       "5085421  PARF_PARF ET EAU DE PARF  PARF_PARFUM  EDP EVIDENCE VAPO 100ML   \n",
       "\n",
       "            CLI_ID  \n",
       "5085421  990122959  "
      ]
     },
     "execution_count": 9,
     "metadata": {},
     "output_type": "execute_result"
    }
   ],
   "source": [
    "# Commande la plus chère\n",
    "df.loc[df[\"PRIX_NET\"] == df[\"PRIX_NET\"].max()]"
   ]
  },
  {
   "cell_type": "code",
   "execution_count": 10,
   "metadata": {},
   "outputs": [
    {
     "data": {
      "text/plain": [
       "CLI_ID\n",
       "1490281      18.40000\n",
       "13290776     55.50000\n",
       "20163348      7.45000\n",
       "20200041      6.70000\n",
       "20561854      7.05000\n",
       "20727324     13.25000\n",
       "20791601     23.80000\n",
       "21046542    166.20000\n",
       "21239163     12.65000\n",
       "21351166      7.40000\n",
       "21497331     33.35000\n",
       "21504227      1.95000\n",
       "21514622     17.90000\n",
       "69813934    117.70000\n",
       "71891681     44.25000\n",
       "85057203     23.50000\n",
       "85841284    162.25000\n",
       "90822328     92.05000\n",
       "93806295      6.00000\n",
       "100023116     9.60000\n",
       "100064590   108.30000\n",
       "126716008    26.50000\n",
       "131204016    37.85000\n",
       "169985247   186.59000\n",
       "191914645     7.50000\n",
       "195207210   110.15000\n",
       "206111880     6.15000\n",
       "242424645     5.00000\n",
       "243624087    31.15000\n",
       "275493987   204.25000\n",
       "               ...   \n",
       "997048464   177.65000\n",
       "997048472     5.00000\n",
       "997048480   216.75000\n",
       "997048498    89.80000\n",
       "997048505     5.00000\n",
       "997048513    31.85000\n",
       "997048539    41.75000\n",
       "997048547    43.95000\n",
       "997048555    17.60000\n",
       "997048563     8.90000\n",
       "997048571    20.40000\n",
       "997048589     3.50000\n",
       "997048597   307.50000\n",
       "997048604    15.95000\n",
       "997048612    18.00000\n",
       "997048620    86.35000\n",
       "997048638     8.90000\n",
       "997048646    10.95000\n",
       "997048654     7.90000\n",
       "997048662     8.90000\n",
       "997048688    16.75000\n",
       "997048703    20.10000\n",
       "997048711    50.60000\n",
       "997048729     7.80000\n",
       "997048737    27.60000\n",
       "997048745    19.80000\n",
       "997048751    28.80000\n",
       "997048769    72.65000\n",
       "997048777    73.70000\n",
       "997385337   119.45000\n",
       "Name: PRIX_NET, Length: 853514, dtype: float64"
      ]
     },
     "execution_count": 10,
     "metadata": {},
     "output_type": "execute_result"
    }
   ],
   "source": [
    "# Somme total dépensé par chaque client\n",
    "df.groupby(['CLI_ID'])[\"PRIX_NET\"].sum()"
   ]
  },
  {
   "cell_type": "code",
   "execution_count": 11,
   "metadata": {},
   "outputs": [
    {
     "data": {
      "text/html": [
       "<div>\n",
       "<style scoped>\n",
       "    .dataframe tbody tr th:only-of-type {\n",
       "        vertical-align: middle;\n",
       "    }\n",
       "\n",
       "    .dataframe tbody tr th {\n",
       "        vertical-align: top;\n",
       "    }\n",
       "\n",
       "    .dataframe thead th {\n",
       "        text-align: right;\n",
       "    }\n",
       "</style>\n",
       "<table border=\"1\" class=\"dataframe\">\n",
       "  <thead>\n",
       "    <tr style=\"text-align: right;\">\n",
       "      <th></th>\n",
       "      <th>PRIX_NET</th>\n",
       "    </tr>\n",
       "    <tr>\n",
       "      <th>CLI_ID</th>\n",
       "      <th></th>\n",
       "    </tr>\n",
       "  </thead>\n",
       "  <tbody>\n",
       "    <tr>\n",
       "      <th>967051620</th>\n",
       "      <td>13536.95000</td>\n",
       "    </tr>\n",
       "  </tbody>\n",
       "</table>\n",
       "</div>"
      ],
      "text/plain": [
       "             PRIX_NET\n",
       "CLI_ID               \n",
       "967051620 13536.95000"
      ]
     },
     "execution_count": 11,
     "metadata": {},
     "output_type": "execute_result"
    }
   ],
   "source": [
    "# Meilleur client\n",
    "df.groupby(\"CLI_ID\").agg({\"PRIX_NET\": \"sum\"}).sort_values(by='PRIX_NET', ascending=False).head(1)"
   ]
  },
  {
   "cell_type": "code",
   "execution_count": 12,
   "metadata": {},
   "outputs": [
    {
     "data": {
      "text/html": [
       "<div>\n",
       "<style scoped>\n",
       "    .dataframe tbody tr th:only-of-type {\n",
       "        vertical-align: middle;\n",
       "    }\n",
       "\n",
       "    .dataframe tbody tr th {\n",
       "        vertical-align: top;\n",
       "    }\n",
       "\n",
       "    .dataframe thead th {\n",
       "        text-align: right;\n",
       "    }\n",
       "</style>\n",
       "<table border=\"1\" class=\"dataframe\">\n",
       "  <thead>\n",
       "    <tr style=\"text-align: right;\">\n",
       "      <th></th>\n",
       "      <th>PRIX_NET</th>\n",
       "    </tr>\n",
       "    <tr>\n",
       "      <th>MOIS_VENTE</th>\n",
       "      <th></th>\n",
       "    </tr>\n",
       "  </thead>\n",
       "  <tbody>\n",
       "    <tr>\n",
       "      <th>12</th>\n",
       "      <td>5387936.22004</td>\n",
       "    </tr>\n",
       "    <tr>\n",
       "      <th>7</th>\n",
       "      <td>4209609.93002</td>\n",
       "    </tr>\n",
       "    <tr>\n",
       "      <th>6</th>\n",
       "      <td>4118695.03002</td>\n",
       "    </tr>\n",
       "    <tr>\n",
       "      <th>1</th>\n",
       "      <td>3922441.38002</td>\n",
       "    </tr>\n",
       "    <tr>\n",
       "      <th>5</th>\n",
       "      <td>3769628.89001</td>\n",
       "    </tr>\n",
       "    <tr>\n",
       "      <th>11</th>\n",
       "      <td>3485610.32001</td>\n",
       "    </tr>\n",
       "    <tr>\n",
       "      <th>9</th>\n",
       "      <td>3258067.86001</td>\n",
       "    </tr>\n",
       "    <tr>\n",
       "      <th>3</th>\n",
       "      <td>3200551.14001</td>\n",
       "    </tr>\n",
       "    <tr>\n",
       "      <th>4</th>\n",
       "      <td>3109273.54000</td>\n",
       "    </tr>\n",
       "    <tr>\n",
       "      <th>10</th>\n",
       "      <td>2997736.24000</td>\n",
       "    </tr>\n",
       "    <tr>\n",
       "      <th>8</th>\n",
       "      <td>2951500.23000</td>\n",
       "    </tr>\n",
       "    <tr>\n",
       "      <th>2</th>\n",
       "      <td>2845321.40000</td>\n",
       "    </tr>\n",
       "  </tbody>\n",
       "</table>\n",
       "</div>"
      ],
      "text/plain": [
       "                PRIX_NET\n",
       "MOIS_VENTE              \n",
       "12         5387936.22004\n",
       "7          4209609.93002\n",
       "6          4118695.03002\n",
       "1          3922441.38002\n",
       "5          3769628.89001\n",
       "11         3485610.32001\n",
       "9          3258067.86001\n",
       "3          3200551.14001\n",
       "4          3109273.54000\n",
       "10         2997736.24000\n",
       "8          2951500.23000\n",
       "2          2845321.40000"
      ]
     },
     "execution_count": 12,
     "metadata": {},
     "output_type": "execute_result"
    }
   ],
   "source": [
    "# Du mois le plus rentable au mois le moins rentable\n",
    "df.groupby(\"MOIS_VENTE\").agg({\"PRIX_NET\": \"sum\"}).sort_values(by='PRIX_NET', ascending=False)"
   ]
  },
  {
   "cell_type": "code",
   "execution_count": 13,
   "metadata": {},
   "outputs": [
    {
     "data": {
      "image/png": "[encoded data removed]",
      "text/plain": [
       "<Figure size 432x288 with 1 Axes>"
      ]
     },
     "metadata": {
      "needs_background": "light"
     },
     "output_type": "display_data"
    }
   ],
   "source": [
    "months = range(1,13)\n",
    "plt.bar(months,df.groupby(\"MOIS_VENTE\").agg({\"PRIX_NET\": \"sum\"})[\"PRIX_NET\"])\n",
    "plt.xticks(months)\n",
    "plt.ylabel('Sales in USD ($)')\n",
    "plt.xlabel('Month number')\n",
    "plt.show()"
   ]
  },
  {
   "cell_type": "code",
   "execution_count": 14,
   "metadata": {},
   "outputs": [
    {
     "data": {
      "text/html": [
       "<div>\n",
       "<style scoped>\n",
       "    .dataframe tbody tr th:only-of-type {\n",
       "        vertical-align: middle;\n",
       "    }\n",
       "\n",
       "    .dataframe tbody tr th {\n",
       "        vertical-align: top;\n",
       "    }\n",
       "\n",
       "    .dataframe thead th {\n",
       "        text-align: right;\n",
       "    }\n",
       "</style>\n",
       "<table border=\"1\" class=\"dataframe\">\n",
       "  <thead>\n",
       "    <tr style=\"text-align: right;\">\n",
       "      <th></th>\n",
       "      <th>TICKET_ID</th>\n",
       "    </tr>\n",
       "    <tr>\n",
       "      <th>MOIS_VENTE</th>\n",
       "      <th></th>\n",
       "    </tr>\n",
       "  </thead>\n",
       "  <tbody>\n",
       "    <tr>\n",
       "      <th>12</th>\n",
       "      <td>319675</td>\n",
       "    </tr>\n",
       "    <tr>\n",
       "      <th>7</th>\n",
       "      <td>277379</td>\n",
       "    </tr>\n",
       "    <tr>\n",
       "      <th>6</th>\n",
       "      <td>258119</td>\n",
       "    </tr>\n",
       "    <tr>\n",
       "      <th>1</th>\n",
       "      <td>257093</td>\n",
       "    </tr>\n",
       "    <tr>\n",
       "      <th>9</th>\n",
       "      <td>230222</td>\n",
       "    </tr>\n",
       "    <tr>\n",
       "      <th>11</th>\n",
       "      <td>212741</td>\n",
       "    </tr>\n",
       "    <tr>\n",
       "      <th>5</th>\n",
       "      <td>212461</td>\n",
       "    </tr>\n",
       "    <tr>\n",
       "      <th>8</th>\n",
       "      <td>204879</td>\n",
       "    </tr>\n",
       "    <tr>\n",
       "      <th>3</th>\n",
       "      <td>198069</td>\n",
       "    </tr>\n",
       "    <tr>\n",
       "      <th>10</th>\n",
       "      <td>197871</td>\n",
       "    </tr>\n",
       "    <tr>\n",
       "      <th>4</th>\n",
       "      <td>195544</td>\n",
       "    </tr>\n",
       "    <tr>\n",
       "      <th>2</th>\n",
       "      <td>170788</td>\n",
       "    </tr>\n",
       "  </tbody>\n",
       "</table>\n",
       "</div>"
      ],
      "text/plain": [
       "            TICKET_ID\n",
       "MOIS_VENTE           \n",
       "12             319675\n",
       "7              277379\n",
       "6              258119\n",
       "1              257093\n",
       "9              230222\n",
       "11             212741\n",
       "5              212461\n",
       "8              204879\n",
       "3              198069\n",
       "10             197871\n",
       "4              195544\n",
       "2              170788"
      ]
     },
     "execution_count": 14,
     "metadata": {},
     "output_type": "execute_result"
    }
   ],
   "source": [
    "# Nombre de commande par mois\n",
    "orders_by_month = df.groupby(\"MOIS_VENTE\").agg({\"TICKET_ID\": pd.Series.nunique}).sort_values(by='TICKET_ID', ascending=False)\n",
    "orders_by_month"
   ]
  },
  {
   "cell_type": "code",
   "execution_count": 15,
   "metadata": {},
   "outputs": [
    {
     "data": {
      "image/png": "[encoded data removed]",
      "text/plain": [
       "<Figure size 432x288 with 1 Axes>"
      ]
     },
     "metadata": {
      "needs_background": "light"
     },
     "output_type": "display_data"
    }
   ],
   "source": [
    "months = range(1,13)\n",
    "plt.bar(months, df.groupby(\"MOIS_VENTE\").agg({\"TICKET_ID\": pd.Series.nunique})[\"TICKET_ID\"])\n",
    "plt.xticks(months)\n",
    "plt.ylabel('Sales in USD ($)')\n",
    "plt.xlabel('Month number')\n",
    "plt.show()"
   ]
  },
  {
   "cell_type": "code",
   "execution_count": 16,
   "metadata": {},
   "outputs": [
    {
     "data": {
      "text/html": [
       "<div>\n",
       "<style scoped>\n",
       "    .dataframe tbody tr th:only-of-type {\n",
       "        vertical-align: middle;\n",
       "    }\n",
       "\n",
       "    .dataframe tbody tr th {\n",
       "        vertical-align: top;\n",
       "    }\n",
       "\n",
       "    .dataframe thead th {\n",
       "        text-align: right;\n",
       "    }\n",
       "</style>\n",
       "<table border=\"1\" class=\"dataframe\">\n",
       "  <thead>\n",
       "    <tr style=\"text-align: right;\">\n",
       "      <th></th>\n",
       "      <th>PRIX_NET</th>\n",
       "    </tr>\n",
       "    <tr>\n",
       "      <th>FAMILLE</th>\n",
       "      <th></th>\n",
       "    </tr>\n",
       "  </thead>\n",
       "  <tbody>\n",
       "    <tr>\n",
       "      <th>MAQUILLAGE</th>\n",
       "      <td>11222925.50996</td>\n",
       "    </tr>\n",
       "    <tr>\n",
       "      <th>SOINS DU VISAGE</th>\n",
       "      <td>10495566.72998</td>\n",
       "    </tr>\n",
       "    <tr>\n",
       "      <th>PARFUMAGE</th>\n",
       "      <td>8464166.30003</td>\n",
       "    </tr>\n",
       "    <tr>\n",
       "      <th>HYGIENE</th>\n",
       "      <td>5817376.74007</td>\n",
       "    </tr>\n",
       "    <tr>\n",
       "      <th>SOINS DU CORPS</th>\n",
       "      <td>4832397.53004</td>\n",
       "    </tr>\n",
       "    <tr>\n",
       "      <th>CAPILLAIRES</th>\n",
       "      <td>1256999.47999</td>\n",
       "    </tr>\n",
       "    <tr>\n",
       "      <th>SOLAIRES</th>\n",
       "      <td>1166788.94000</td>\n",
       "    </tr>\n",
       "    <tr>\n",
       "      <th>MULTI FAMILLES</th>\n",
       "      <td>136.00000</td>\n",
       "    </tr>\n",
       "    <tr>\n",
       "      <th>SANTE NATURELLE</th>\n",
       "      <td>14.95000</td>\n",
       "    </tr>\n",
       "  </tbody>\n",
       "</table>\n",
       "</div>"
      ],
      "text/plain": [
       "                      PRIX_NET\n",
       "FAMILLE                       \n",
       "MAQUILLAGE      11222925.50996\n",
       "SOINS DU VISAGE 10495566.72998\n",
       "PARFUMAGE        8464166.30003\n",
       "HYGIENE          5817376.74007\n",
       "SOINS DU CORPS   4832397.53004\n",
       "CAPILLAIRES      1256999.47999\n",
       "SOLAIRES         1166788.94000\n",
       "MULTI FAMILLES       136.00000\n",
       "SANTE NATURELLE       14.95000"
      ]
     },
     "execution_count": 16,
     "metadata": {},
     "output_type": "execute_result"
    }
   ],
   "source": [
    "# De la famille la plus rentable à la moins rentable\n",
    "familly_by_month = df.groupby(\"FAMILLE\").agg({\"PRIX_NET\": \"sum\"}).sort_values(by='PRIX_NET', ascending=False)\n",
    "familly_by_month"
   ]
  },
  {
   "cell_type": "code",
   "execution_count": 17,
   "metadata": {},
   "outputs": [
    {
     "data": {
      "image/png": "[encoded data removed]",
      "text/plain": [
       "<Figure size 432x288 with 1 Axes>"
      ]
     },
     "metadata": {},
     "output_type": "display_data"
    }
   ],
   "source": [
    "plt.pie(familly_by_month[\"PRIX_NET\"], labels = familly_by_month.index)\n",
    "plt.legend(title = \"Familles:\")\n",
    "plt.show()"
   ]
  },
  {
   "cell_type": "code",
   "execution_count": 18,
   "metadata": {},
   "outputs": [
    {
     "data": {
      "text/html": [
       "<div>\n",
       "<style scoped>\n",
       "    .dataframe tbody tr th:only-of-type {\n",
       "        vertical-align: middle;\n",
       "    }\n",
       "\n",
       "    .dataframe tbody tr th {\n",
       "        vertical-align: top;\n",
       "    }\n",
       "\n",
       "    .dataframe thead th {\n",
       "        text-align: right;\n",
       "    }\n",
       "</style>\n",
       "<table border=\"1\" class=\"dataframe\">\n",
       "  <thead>\n",
       "    <tr style=\"text-align: right;\">\n",
       "      <th></th>\n",
       "      <th>TICKET_ID</th>\n",
       "    </tr>\n",
       "    <tr>\n",
       "      <th>FAMILLE</th>\n",
       "      <th></th>\n",
       "    </tr>\n",
       "  </thead>\n",
       "  <tbody>\n",
       "    <tr>\n",
       "      <th>MAQUILLAGE</th>\n",
       "      <td>1023978</td>\n",
       "    </tr>\n",
       "    <tr>\n",
       "      <th>SOINS DU VISAGE</th>\n",
       "      <td>982436</td>\n",
       "    </tr>\n",
       "    <tr>\n",
       "      <th>HYGIENE</th>\n",
       "      <td>963844</td>\n",
       "    </tr>\n",
       "    <tr>\n",
       "      <th>SOINS DU CORPS</th>\n",
       "      <td>654464</td>\n",
       "    </tr>\n",
       "    <tr>\n",
       "      <th>PARFUMAGE</th>\n",
       "      <td>512803</td>\n",
       "    </tr>\n",
       "    <tr>\n",
       "      <th>CAPILLAIRES</th>\n",
       "      <td>210136</td>\n",
       "    </tr>\n",
       "    <tr>\n",
       "      <th>SOLAIRES</th>\n",
       "      <td>119067</td>\n",
       "    </tr>\n",
       "    <tr>\n",
       "      <th>MULTI FAMILLES</th>\n",
       "      <td>29</td>\n",
       "    </tr>\n",
       "    <tr>\n",
       "      <th>SANTE NATURELLE</th>\n",
       "      <td>1</td>\n",
       "    </tr>\n",
       "  </tbody>\n",
       "</table>\n",
       "</div>"
      ],
      "text/plain": [
       "                 TICKET_ID\n",
       "FAMILLE                   \n",
       "MAQUILLAGE         1023978\n",
       "SOINS DU VISAGE     982436\n",
       "HYGIENE             963844\n",
       "SOINS DU CORPS      654464\n",
       "PARFUMAGE           512803\n",
       "CAPILLAIRES         210136\n",
       "SOLAIRES            119067\n",
       "MULTI FAMILLES          29\n",
       "SANTE NATURELLE          1"
      ]
     },
     "execution_count": 18,
     "metadata": {},
     "output_type": "execute_result"
    }
   ],
   "source": [
    "# Nombre de commande par famille\n",
    "orders_by_familly = df.groupby(\"FAMILLE\").agg({\"TICKET_ID\": pd.Series.nunique}).sort_values(by='TICKET_ID', ascending=False)\n",
    "orders_by_familly"
   ]
  },
  {
   "cell_type": "code",
   "execution_count": 19,
   "metadata": {},
   "outputs": [
    {
     "data": {
      "image/png": "[encoded data removed]",
      "text/plain": [
       "<Figure size 432x288 with 1 Axes>"
      ]
     },
     "metadata": {},
     "output_type": "display_data"
    }
   ],
   "source": [
    "plt.pie(orders_by_familly[\"TICKET_ID\"], labels = orders_by_familly.index)\n",
    "plt.legend(title = \"Familles:\")\n",
    "plt.show()"
   ]
  },
  {
   "cell_type": "code",
   "execution_count": 47,
   "metadata": {},
   "outputs": [
    {
     "data": {
      "text/html": [
       "<div>\n",
       "<style scoped>\n",
       "    .dataframe tbody tr th:only-of-type {\n",
       "        vertical-align: middle;\n",
       "    }\n",
       "\n",
       "    .dataframe tbody tr th {\n",
       "        vertical-align: top;\n",
       "    }\n",
       "\n",
       "    .dataframe thead th {\n",
       "        text-align: right;\n",
       "    }\n",
       "</style>\n",
       "<table border=\"1\" class=\"dataframe\">\n",
       "  <thead>\n",
       "    <tr style=\"text-align: right;\">\n",
       "      <th></th>\n",
       "      <th>TICKET_ID</th>\n",
       "      <th>MOIS_VENTE</th>\n",
       "      <th>PRIX_NET</th>\n",
       "      <th>FAMILLE</th>\n",
       "      <th>UNIVERS</th>\n",
       "      <th>MAILLE</th>\n",
       "      <th>LIBELLE</th>\n",
       "      <th>CLI_ID</th>\n",
       "    </tr>\n",
       "  </thead>\n",
       "  <tbody>\n",
       "    <tr>\n",
       "      <th>6458712</th>\n",
       "      <td>33072287</td>\n",
       "      <td>1</td>\n",
       "      <td>14.95000</td>\n",
       "      <td>SANTE NATURELLE</td>\n",
       "      <td>DIETETIQUE</td>\n",
       "      <td>DIETETIQUE</td>\n",
       "      <td>SOIN COSM ORALE 3X10 CAPS RC2</td>\n",
       "      <td>993646584</td>\n",
       "    </tr>\n",
       "  </tbody>\n",
       "</table>\n",
       "</div>"
      ],
      "text/plain": [
       "         TICKET_ID  MOIS_VENTE  PRIX_NET          FAMILLE     UNIVERS  \\\n",
       "6458712   33072287           1  14.95000  SANTE NATURELLE  DIETETIQUE   \n",
       "\n",
       "             MAILLE                        LIBELLE     CLI_ID  \n",
       "6458712  DIETETIQUE  SOIN COSM ORALE 3X10 CAPS RC2  993646584  "
      ]
     },
     "execution_count": 47,
     "metadata": {},
     "output_type": "execute_result"
    }
   ],
   "source": [
    "# Test pour voir si les données sont bien calculées\n",
    "df.loc[df[\"FAMILLE\"] == \"SANTE NATURELLE\"]"
   ]
  },
  {
   "cell_type": "code",
   "execution_count": 71,
   "metadata": {},
   "outputs": [
    {
     "name": "stdout",
     "output_type": "stream",
     "text": [
      "familles (9): ['HYGIENE' 'SOINS DU VISAGE' 'PARFUMAGE' 'SOINS DU CORPS' 'MAQUILLAGE'\n",
      " 'CAPILLAIRES' 'SOLAIRES' 'MULTI FAMILLES' 'SANTE NATURELLE'] \n",
      "\n",
      "univers (105): ['HYG_DOUCHE JARDINMONDE' 'VIS_CJOUR Jeunes Specifique' 'VIS_DEMAQ AAAR'\n",
      " 'PARF_EAUX PARFUMS' 'CORPS_LAIT HUILE PLAISIRNATURE' 'HYG_DOUCHE PARFUMS'\n",
      " 'CORPS_LAIT HUILE PARFUMS' 'MAQ_LEV RAL Brillance' 'CORPS_SOIN DES MAINS'\n",
      " 'CAP_AP SHAMP' 'MAQ_ONG Vernis LUM' 'HYG_DOUCHE HOMMES' 'MAQ_LEV BRILLANT'\n",
      " 'HYG_SAVONS' 'CORPS_LAIT HUILE AUTRES' 'CORPS_HYDRA NOURRISANT'\n",
      " 'MAQ_TEINT Fard a joues' 'CORPS_SOIN PIEDS ET JAMBES'\n",
      " 'VIS_MASQUE Jeunes Specifique' 'VIS_SOIN LEVRES' 'PARF_EAUX DE COLOGNE'\n",
      " 'HYG_DEO CULTURE BIO' 'HYG_DOUCHE EDT ETE' 'VIS_TRAIT BIO'\n",
      " 'HYG_DOUCHE HAMMAM' 'VIS_CJOUR BIO' 'CAP_SHAMP TRAITANT'\n",
      " 'CORPS_EXFOLIANT CORPS' 'VIS_DEMAQ Jeunes Specifique' 'VIS_CJOUR AAAR'\n",
      " 'MAQ_YEUX Fard' 'HYG_DOUCHE PLAISIRNATURE' 'VIS_DEMAQ BIO' 'VIS_DEMAQ PUR'\n",
      " 'MAQ_LEV RAL Lum4' 'PARF_EAUX HOMMES' 'MAQ_LEV RAL GrdRouge'\n",
      " 'HYG_DEO PARFUMS' 'MAQ_YEUX Mascara Basic' 'PARF_PARF ET EAU DE PARF'\n",
      " 'MAQ_YEUX Mascara Specifique' 'MAQ_YEUX Crayons'\n",
      " 'HYG_BAIN SEL HUILE PERLE' 'PARF_EAUX PLAISIR NATURE' 'HYG_DOUCHE MONOI'\n",
      " 'MAQ_ONG Vernis CN' 'MAQ_YEUX Eyeliner' 'VIS_SOIN HOMMES'\n",
      " 'HYG_DOUCHE CULTUREBIO' 'MAQ_ONG AUTRES' 'SOL_APRES SOLEIL'\n",
      " 'MAQ_YEUX Stylos' 'MAQ_YEUX Mascara Elixir'\n",
      " 'VIS_LOTIONS Jeunes Specifique' 'MAQ_TEINT Poudres' 'MAQ_TEINT Font teint'\n",
      " 'CORPS_LAIT HUILE MONOI' 'CORPS_EAUX CORPS MONOI' 'SOL_AUTOBRONZANTS'\n",
      " 'CAP_SHAMP SPECIFIQUE' 'HYG_DOUCHE EDT NOEL' 'VIS_DEMAQ BLEUET'\n",
      " 'CORPS_EAUX CORPS AUTRES' 'VIS_LOTIONS AAAR' 'HYG_DEO JARDINMONDE'\n",
      " 'VIS_MASQUE PUR' 'CAP_SHAMP TSCHEVEUX' 'HYG_DEO HOMMES'\n",
      " 'PARF_EAUX EDIT NOEL ETE' 'SOL_PROTECTEURS SOLAIRES'\n",
      " 'HYG_DOUCHE FRAICHEUR VEG' 'VIS_CJOUR PUR' 'VIS_TRAIT AAAR'\n",
      " 'VIS_CNUIT AAAR' 'VIS_TRAIT Jeunes Specifique' 'MAQ_LEV AUTRES'\n",
      " 'MAQ_YEUX Mascara SexyPulp' 'CAP_TRAITEMENT'\n",
      " 'MAQ_TEINT Perfect Correcteur' 'CORPS_SOINS HAMMAM'\n",
      " 'MAQ_YEUX Mascara Vertige' 'CORPS_PRODUITS MINCEUR' 'MAQ_LEV RAL Hydr'\n",
      " 'PARF_EAUX MONOI' 'MAQ_YEUX Sourcils' 'SOINS CORPS ANTI-AGE'\n",
      " 'VIS_CNUIT Jeunes Specifique' 'HYG_DOUCHE AUTRES' 'VIS_MASQUE AAAR'\n",
      " 'PARF_APRES RASAGE' 'MAQ_Autres' 'HYG_RASAGE' 'CAP_TENUE DE LA COIFFURE'\n",
      " 'VIS_CNUIT BIO' 'VIS_CNUIT Autres' 'MULTI FAMILLES' 'VIS_CJOUR Autres'\n",
      " 'VIS_LOTIONS Autres' 'MAQ_LEV RAL Autres' 'PARF_EAUX AUTRES'\n",
      " 'HYG_DEO AUTRES' 'VIS_DEMAQ Autres' 'VIS_LOTIONS BIO' 'MAQ_YEUX Autres'\n",
      " 'DIETETIQUE'] \n",
      "\n",
      "mailles (34): ['HYG_JDM' 'VIS_JEUNE_ET_LEVRE' 'VIS_AAAR_DEMAQLOTION' 'PARF_PARFUM'\n",
      " 'CORPS_HYDR_LAIT_HUILE' 'HYG_PARFUMEE' 'MAQ_LEV_RAL_HMG'\n",
      " 'CORPS_HYDRA_NOURRI_ET_SOINS' 'CAPILLAIRE_AUTRE' 'MAQ_ONGLES' 'HYG_HOMME'\n",
      " 'MAQ_LEV_BASPRIX' 'HYG_PLAISIRNAT_BAIN_SAVON' 'MAQ_TEINT' 'HYG_CULTUREBIO'\n",
      " 'HYG_MONOI_ET_EDIT_SPEC' 'VIS_BIO' 'HYG_AUTRES' 'CAPILLAIRE_SHAMPOING'\n",
      " 'CORPS_SPA_ET_MINCEUR' 'VIS_AAAR_HORS_DEMAQLOTION'\n",
      " 'MAQ_YEUX_MASCA_EYEL_FARD' 'VIS_PUR' 'PARF_HOMME' 'MAQ_YEUX_CLASSIQUE'\n",
      " 'PARF_EDT' 'VIS_HOMMES' 'SOLAIRE' 'MAQ_YEUX_MASCA_HG' 'CORPS_MONOI'\n",
      " 'VIS_AUTRES' 'MAQ_AUTRE' 'MULTIFAMILLES' 'DIETETIQUE'] \n",
      "\n",
      "libelles (1484): ['GD JDM4 PAMPLEMOUSSE FL 200ML' 'CR JR PARF BIO.SPE AC.SENT.50ML'\n",
      " 'EAU MICELLAIRE 3 THES FL200ML' ..., \"VAO ROSE A L'EAU A/T MAI10 LUM3 3ML\"\n",
      " 'PAL YX AMB/CANN/CHAT NOEL11 A/T LU3 3X1G'\n",
      " 'FDT PINCEAU ECL/TRES CLAIR CN3 15'] \n",
      "\n"
     ]
    }
   ],
   "source": [
    "# Liste unique des familles, univers, mailles, libellés\n",
    "familles = df['FAMILLE'].unique()\n",
    "print(f\"familles ({len(familles)}):\", familles, \"\\n\")\n",
    "\n",
    "univers = df['UNIVERS'].unique()\n",
    "print(f\"univers ({len(univers)}):\", univers, \"\\n\")\n",
    "\n",
    "mailles = df['MAILLE'].unique()\n",
    "print(f\"mailles ({len(mailles)}):\", mailles, \"\\n\")\n",
    "\n",
    "libelles = df['LIBELLE'].unique()\n",
    "print(f\"libelles ({len(libelles)}):\", libelles, \"\\n\")"
   ]
  },
  {
   "cell_type": "markdown",
   "metadata": {},
   "source": [
    "# Information client"
   ]
  },
  {
   "cell_type": "markdown",
   "metadata": {},
   "source": [
    "# L'objectif est d'avoir les informations les plus utiles pour un client passé en paramètre"
   ]
  },
  {
   "cell_type": "markdown",
   "metadata": {},
   "source": [
    "## Récupération du dataset associé au client"
   ]
  },
  {
   "cell_type": "code",
   "execution_count": 22,
   "metadata": {},
   "outputs": [
    {
     "data": {
      "text/html": [
       "<div>\n",
       "<style scoped>\n",
       "    .dataframe tbody tr th:only-of-type {\n",
       "        vertical-align: middle;\n",
       "    }\n",
       "\n",
       "    .dataframe tbody tr th {\n",
       "        vertical-align: top;\n",
       "    }\n",
       "\n",
       "    .dataframe thead th {\n",
       "        text-align: right;\n",
       "    }\n",
       "</style>\n",
       "<table border=\"1\" class=\"dataframe\">\n",
       "  <thead>\n",
       "    <tr style=\"text-align: right;\">\n",
       "      <th></th>\n",
       "      <th>TICKET_ID</th>\n",
       "      <th>MOIS_VENTE</th>\n",
       "      <th>PRIX_NET</th>\n",
       "      <th>FAMILLE</th>\n",
       "      <th>UNIVERS</th>\n",
       "      <th>MAILLE</th>\n",
       "      <th>LIBELLE</th>\n",
       "      <th>CLI_ID</th>\n",
       "    </tr>\n",
       "  </thead>\n",
       "  <tbody>\n",
       "    <tr>\n",
       "      <th>0</th>\n",
       "      <td>35592159</td>\n",
       "      <td>10</td>\n",
       "      <td>1.67000</td>\n",
       "      <td>HYGIENE</td>\n",
       "      <td>HYG_DOUCHE JARDINMONDE</td>\n",
       "      <td>HYG_JDM</td>\n",
       "      <td>GD JDM4 PAMPLEMOUSSE FL 200ML</td>\n",
       "      <td>1490281</td>\n",
       "    </tr>\n",
       "    <tr>\n",
       "      <th>1</th>\n",
       "      <td>35592159</td>\n",
       "      <td>10</td>\n",
       "      <td>1.66000</td>\n",
       "      <td>HYGIENE</td>\n",
       "      <td>HYG_DOUCHE JARDINMONDE</td>\n",
       "      <td>HYG_JDM</td>\n",
       "      <td>GD JDM4 PAMPLEMOUSSE FL 200ML</td>\n",
       "      <td>1490281</td>\n",
       "    </tr>\n",
       "    <tr>\n",
       "      <th>2</th>\n",
       "      <td>35592159</td>\n",
       "      <td>10</td>\n",
       "      <td>7.45000</td>\n",
       "      <td>SOINS DU VISAGE</td>\n",
       "      <td>VIS_CJOUR Jeunes Specifique</td>\n",
       "      <td>VIS_JEUNE_ET_LEVRE</td>\n",
       "      <td>CR JR PARF BIO.SPE AC.SENT.50ML</td>\n",
       "      <td>1490281</td>\n",
       "    </tr>\n",
       "    <tr>\n",
       "      <th>3</th>\n",
       "      <td>35592159</td>\n",
       "      <td>10</td>\n",
       "      <td>5.95000</td>\n",
       "      <td>SOINS DU VISAGE</td>\n",
       "      <td>VIS_DEMAQ AAAR</td>\n",
       "      <td>VIS_AAAR_DEMAQLOTION</td>\n",
       "      <td>EAU MICELLAIRE 3 THES FL200ML</td>\n",
       "      <td>1490281</td>\n",
       "    </tr>\n",
       "    <tr>\n",
       "      <th>4</th>\n",
       "      <td>35592159</td>\n",
       "      <td>10</td>\n",
       "      <td>1.67000</td>\n",
       "      <td>HYGIENE</td>\n",
       "      <td>HYG_DOUCHE JARDINMONDE</td>\n",
       "      <td>HYG_JDM</td>\n",
       "      <td>GD JDM4 TIARE FL 200ML</td>\n",
       "      <td>1490281</td>\n",
       "    </tr>\n",
       "  </tbody>\n",
       "</table>\n",
       "</div>"
      ],
      "text/plain": [
       "   TICKET_ID  MOIS_VENTE  PRIX_NET          FAMILLE  \\\n",
       "0   35592159          10   1.67000          HYGIENE   \n",
       "1   35592159          10   1.66000          HYGIENE   \n",
       "2   35592159          10   7.45000  SOINS DU VISAGE   \n",
       "3   35592159          10   5.95000  SOINS DU VISAGE   \n",
       "4   35592159          10   1.67000          HYGIENE   \n",
       "\n",
       "                       UNIVERS                MAILLE  \\\n",
       "0       HYG_DOUCHE JARDINMONDE               HYG_JDM   \n",
       "1       HYG_DOUCHE JARDINMONDE               HYG_JDM   \n",
       "2  VIS_CJOUR Jeunes Specifique    VIS_JEUNE_ET_LEVRE   \n",
       "3               VIS_DEMAQ AAAR  VIS_AAAR_DEMAQLOTION   \n",
       "4       HYG_DOUCHE JARDINMONDE               HYG_JDM   \n",
       "\n",
       "                           LIBELLE   CLI_ID  \n",
       "0    GD JDM4 PAMPLEMOUSSE FL 200ML  1490281  \n",
       "1    GD JDM4 PAMPLEMOUSSE FL 200ML  1490281  \n",
       "2  CR JR PARF BIO.SPE AC.SENT.50ML  1490281  \n",
       "3    EAU MICELLAIRE 3 THES FL200ML  1490281  \n",
       "4           GD JDM4 TIARE FL 200ML  1490281  "
      ]
     },
     "execution_count": 22,
     "metadata": {},
     "output_type": "execute_result"
    }
   ],
   "source": [
    "client_id = 1490281;\n",
    "df_client = df.loc[df[\"CLI_ID\"] == client_id]\n",
    "df_client"
   ]
  },
  {
   "cell_type": "markdown",
   "metadata": {},
   "source": [
    "## Informations générales"
   ]
  },
  {
   "cell_type": "code",
   "execution_count": 66,
   "metadata": {},
   "outputs": [
    {
     "name": "stdout",
     "output_type": "stream",
     "text": [
      "Client déjà enregistré\n"
     ]
    }
   ],
   "source": [
    "# Est-ce un nouveau client\n",
    "if df_client.shape[0] == 1: print(\"Nouveau client\")\n",
    "else: print(\"Client déjà enregistré\")"
   ]
  },
  {
   "cell_type": "code",
   "execution_count": 45,
   "metadata": {},
   "outputs": [
    {
     "data": {
      "text/plain": [
       "5"
      ]
     },
     "execution_count": 45,
     "metadata": {},
     "output_type": "execute_result"
    }
   ],
   "source": [
    "# Nombre d'achat\n",
    "df_client.shape[0]"
   ]
  },
  {
   "cell_type": "code",
   "execution_count": 43,
   "metadata": {},
   "outputs": [
    {
     "data": {
      "text/plain": [
       "18.399999999999999"
      ]
     },
     "execution_count": 43,
     "metadata": {},
     "output_type": "execute_result"
    }
   ],
   "source": [
    "# Dépense total\n",
    "df_client[\"PRIX_NET\"].sum()"
   ]
  },
  {
   "cell_type": "code",
   "execution_count": 44,
   "metadata": {},
   "outputs": [
    {
     "data": {
      "text/plain": [
       "array(['GD JDM4 PAMPLEMOUSSE FL 200ML', 'CR JR PARF BIO.SPE AC.SENT.50ML',\n",
       "       'EAU MICELLAIRE 3 THES FL200ML', 'GD JDM4 TIARE FL 200ML'], dtype=object)"
      ]
     },
     "execution_count": 44,
     "metadata": {},
     "output_type": "execute_result"
    }
   ],
   "source": [
    "# Liste des produits que le client a acheté\n",
    "df_client[\"LIBELLE\"].unique()"
   ]
  },
  {
   "cell_type": "code",
   "execution_count": 41,
   "metadata": {},
   "outputs": [
    {
     "data": {
      "text/plain": [
       "LIBELLE\n",
       "CR JR PARF BIO.SPE AC.SENT.50ML    1\n",
       "EAU MICELLAIRE 3 THES FL200ML      1\n",
       "GD JDM4 PAMPLEMOUSSE FL 200ML      2\n",
       "GD JDM4 TIARE FL 200ML             1\n",
       "dtype: int64"
      ]
     },
     "execution_count": 41,
     "metadata": {},
     "output_type": "execute_result"
    }
   ],
   "source": [
    "# Liste des produits que le client a acheté et leur quantité\n",
    "df_client.groupby(\"LIBELLE\").size()"
   ]
  },
  {
   "cell_type": "code",
   "execution_count": 56,
   "metadata": {},
   "outputs": [
    {
     "name": "stdout",
     "output_type": "stream",
     "text": [
      "familles: ['HYGIENE' 'SOINS DU VISAGE']\n",
      "univers: ['HYG_DOUCHE JARDINMONDE' 'VIS_CJOUR Jeunes Specifique' 'VIS_DEMAQ AAAR']\n",
      "mailles: ['HYG_JDM' 'VIS_JEUNE_ET_LEVRE' 'VIS_AAAR_DEMAQLOTION']\n"
     ]
    }
   ],
   "source": [
    "# liste des familles des produits que le client a acheté\n",
    "print(f'familles: {df_client[\"FAMILLE\"].unique()}')\n",
    "print(f'univers: {df_client[\"UNIVERS\"].unique()}')\n",
    "print(f'mailles: {df_client[\"MAILLE\"].unique()}')"
   ]
  },
  {
   "cell_type": "markdown",
   "metadata": {},
   "source": [
    "# Recommandation"
   ]
  },
  {
   "cell_type": "markdown",
   "metadata": {},
   "source": [
    "## Recommandation en fonction de la maille"
   ]
  },
  {
   "cell_type": "code",
   "execution_count": 67,
   "metadata": {},
   "outputs": [],
   "source": [
    "# On va regarder la maille du produit et ansi proposé le produit le plus vendu dans cette maille.\n",
    "# Si c'est déjà le premier alors on propose le suivant.\n",
    "# Si le client à déjà acheté tous les produits de cette maille on lui propose le produit le\n",
    "# plus vendu de l'univers associés."
   ]
  },
  {
   "cell_type": "code",
   "execution_count": null,
   "metadata": {},
   "outputs": [],
   "source": []
  },
  {
   "cell_type": "code",
   "execution_count": null,
   "metadata": {},
   "outputs": [],
   "source": []
  },
  {
   "cell_type": "code",
   "execution_count": null,
   "metadata": {},
   "outputs": [],
   "source": []
  },
  {
   "cell_type": "code",
   "execution_count": null,
   "metadata": {},
   "outputs": [],
   "source": []
  },
  {
   "cell_type": "code",
   "execution_count": null,
   "metadata": {},
   "outputs": [],
   "source": []
  },
  {
   "cell_type": "code",
   "execution_count": null,
   "metadata": {},
   "outputs": [],
   "source": []
  },
  {
   "cell_type": "code",
   "execution_count": null,
   "metadata": {},
   "outputs": [],
   "source": []
  },
  {
   "cell_type": "code",
   "execution_count": null,
   "metadata": {},
   "outputs": [],
   "source": []
  },
  {
   "cell_type": "code",
   "execution_count": null,
   "metadata": {},
   "outputs": [],
   "source": []
  },
  {
   "cell_type": "code",
   "execution_count": null,
   "metadata": {},
   "outputs": [],
   "source": []
  },
  {
   "cell_type": "markdown",
   "metadata": {},
   "source": [
    "## Recommandation en fonction de l'attribut de l'univers"
   ]
  },
  {
   "cell_type": "code",
   "execution_count": 72,
   "metadata": {},
   "outputs": [],
   "source": [
    "# D'après l'annalyse des données (première partie) on peut segmenter les produits selon des caractéristiques\n",
    "# précise tel que: homme, bio, monoi, jardinmonde, AAAR"
   ]
  },
  {
   "cell_type": "code",
   "execution_count": null,
   "metadata": {},
   "outputs": [],
   "source": []
  }
 ],
 "metadata": {
  "kernelspec": {
   "display_name": "Python 3",
   "language": "python",
   "name": "python3"
  },
  "language_info": {
   "codemirror_mode": {
    "name": "ipython",
    "version": 3
   },
   "file_extension": ".py",
   "mimetype": "text/x-python",
   "name": "python",
   "nbconvert_exporter": "python",
   "pygments_lexer": "ipython3",
   "version": "3.6.7"
  }
 },
 "nbformat": 4,
 "nbformat_minor": 2
}
